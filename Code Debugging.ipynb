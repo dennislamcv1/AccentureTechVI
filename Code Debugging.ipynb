{
 "cells": [
  {
   "cell_type": "code",
   "execution_count": 1,
   "id": "fc98bcea",
   "metadata": {},
   "outputs": [
    {
     "name": "stdout",
     "output_type": "stream",
     "text": [
      "This line of code is before both IF-ELSE functions\n"
     ]
    }
   ],
   "source": [
    "print(\"This line of code is before both IF-ELSE functions\")"
   ]
  },
  {
   "cell_type": "code",
   "execution_count": 2,
   "id": "e63bab9d",
   "metadata": {},
   "outputs": [
    {
     "name": "stdout",
     "output_type": "stream",
     "text": [
      "Counter is greater than 100\n",
      "This line is in the first else section\n"
     ]
    }
   ],
   "source": [
    "countervariable = 125\n",
    "\n",
    "if (countervariable < 100):\n",
    "    print(\"Counter is smaller than 100\")\n",
    "    print(\"This line is in the first if section\")\n",
    "else:\n",
    "    print(\"Counter is greater than 100\")\n",
    "    print(\"This line is in the first else section\")\n"
   ]
  },
  {
   "cell_type": "code",
   "execution_count": 3,
   "id": "7b7d7c49",
   "metadata": {},
   "outputs": [
    {
     "name": "stdout",
     "output_type": "stream",
     "text": [
      "Number is a positive number\n",
      "This line is in the second if section\n"
     ]
    }
   ],
   "source": [
    "number = 3\n",
    "if (number > 0):\n",
    "    print(\"Number is a positive number\")\n",
    "    print(\"This line is in the second if section\")\n",
    "else:\n",
    "    print(\"Number is a negative number\")\n",
    "    print(\"This line is in the second else section\")\n"
   ]
  },
  {
   "cell_type": "code",
   "execution_count": 4,
   "id": "a23a78f7",
   "metadata": {},
   "outputs": [
    {
     "name": "stdout",
     "output_type": "stream",
     "text": [
      "This line of code is after both of the IF-ELSE functions\n"
     ]
    }
   ],
   "source": [
    "print(\"This line of code is after both of the IF-ELSE functions\")"
   ]
  },
  {
   "cell_type": "code",
   "execution_count": null,
   "id": "4f024574",
   "metadata": {},
   "outputs": [],
   "source": []
  }
 ],
 "metadata": {
  "kernelspec": {
   "display_name": "Python 3",
   "language": "python",
   "name": "python3"
  },
  "language_info": {
   "codemirror_mode": {
    "name": "ipython",
    "version": 3
   },
   "file_extension": ".py",
   "mimetype": "text/x-python",
   "name": "python",
   "nbconvert_exporter": "python",
   "pygments_lexer": "ipython3",
   "version": "3.8.8"
  }
 },
 "nbformat": 4,
 "nbformat_minor": 5
}
